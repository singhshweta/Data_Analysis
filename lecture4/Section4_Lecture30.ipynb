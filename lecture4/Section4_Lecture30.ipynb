{
 "cells": [
  {
   "cell_type": "markdown",
   "metadata": {},
   "source": [
    "## Read in HTML data"
   ]
  },
  {
   "cell_type": "code",
   "execution_count": 15,
   "metadata": {},
   "outputs": [],
   "source": [
    "import pandas as pd\n",
    "import html5lib"
   ]
  },
  {
   "cell_type": "markdown",
   "metadata": {},
   "source": [
    "### Specify the html to be read in"
   ]
  },
  {
   "cell_type": "code",
   "execution_count": 16,
   "metadata": {},
   "outputs": [],
   "source": [
    "uss=pd.read_html('https://simple.wikipedia.org/wiki/List_of_U.S._states') "
   ]
  },
  {
   "cell_type": "code",
   "execution_count": 17,
   "metadata": {},
   "outputs": [
    {
     "name": "stdout",
     "output_type": "stream",
     "text": [
      "<class 'list'>\n"
     ]
    }
   ],
   "source": [
    "print(type(uss)) # #this is a list of dataframes"
   ]
  },
  {
   "cell_type": "code",
   "execution_count": 18,
   "metadata": {},
   "outputs": [
    {
     "name": "stdout",
     "output_type": "stream",
     "text": [
      "<class 'pandas.core.frame.DataFrame'>\n"
     ]
    }
   ],
   "source": [
    "u = uss[0] #grab dataframe from index 0\n",
    "print(type(u))"
   ]
  },
  {
   "cell_type": "markdown",
   "metadata": {},
   "source": [
    "### another url"
   ]
  },
  {
   "cell_type": "code",
   "execution_count": 19,
   "metadata": {},
   "outputs": [
    {
     "name": "stdout",
     "output_type": "stream",
     "text": [
      "<class 'list'>\n"
     ]
    }
   ],
   "source": [
    "url = 'http://www.fdic.gov/bank/individual/failed/banklist.html'\n",
    "\n",
    "dfs = pd.read_html(url) #this is a list of dataframes\n",
    "\n",
    "print(type(dfs))"
   ]
  },
  {
   "cell_type": "code",
   "execution_count": 20,
   "metadata": {},
   "outputs": [
    {
     "name": "stdout",
     "output_type": "stream",
     "text": [
      "                                             Bank Name                City  \\\n",
      "0                  Washington Federal Bank for Savings             Chicago   \n",
      "1      The Farmers and Merchants State Bank of Argonia             Argonia   \n",
      "2                                  Fayette County Bank          Saint Elmo   \n",
      "3    Guaranty Bank, (d/b/a BestBank in Georgia & Mi...           Milwaukee   \n",
      "4                                       First NBC Bank         New Orleans   \n",
      "5                                        Proficio Bank  Cottonwood Heights   \n",
      "6                        Seaway Bank and Trust Company             Chicago   \n",
      "7                               Harvest Community Bank          Pennsville   \n",
      "8                                          Allied Bank            Mulberry   \n",
      "9                         The Woodbury Banking Company            Woodbury   \n",
      "10                              First CornerStone Bank     King of Prussia   \n",
      "11                                  Trust Company Bank             Memphis   \n",
      "12                          North Milwaukee State Bank           Milwaukee   \n",
      "13                              Hometown National Bank            Longview   \n",
      "14                                 The Bank of Georgia      Peachtree City   \n",
      "15                                        Premier Bank              Denver   \n",
      "16                                      Edgebrook Bank             Chicago   \n",
      "17                              Doral Bank  En Espanol            San Juan   \n",
      "18                   Capitol City Bank & Trust Company             Atlanta   \n",
      "19                             Highland Community Bank             Chicago   \n",
      "20                    First National Bank of Crestview           Crestview   \n",
      "21                                  Northern Star Bank             Mankato   \n",
      "22              Frontier Bank, FSB D/B/A El Paseo Bank         Palm Desert   \n",
      "23               The National Republic Bank of Chicago             Chicago   \n",
      "24                                      NBRS Financial          Rising Sun   \n",
      "25                               GreenChoice Bank, fsb             Chicago   \n",
      "26                            Eastside Commercial Bank             Conyers   \n",
      "27                              The Freedom State Bank             Freedom   \n",
      "28                                         Valley Bank     Fort Lauderdale   \n",
      "29                                         Valley Bank              Moline   \n",
      "..                                                 ...                 ...   \n",
      "525                                  ANB Financial, NA         Bentonville   \n",
      "526                                          Hume Bank                Hume   \n",
      "527                             Douglass National Bank         Kansas City   \n",
      "528                                  Miami Valley Bank            Lakeview   \n",
      "529                                            NetBank          Alpharetta   \n",
      "530                          Metropolitan Savings Bank          Pittsburgh   \n",
      "531                                    Bank of Ephraim             Ephraim   \n",
      "532                                      Reliance Bank        White Plains   \n",
      "533              Guaranty National Bank of Tallahassee         Tallahassee   \n",
      "534                                Dollar Savings Bank              Newark   \n",
      "535                               Pulaski Savings Bank        Philadelphia   \n",
      "536              First National Bank of Blanchardville      Blanchardville   \n",
      "537                              Southern Pacific Bank            Torrance   \n",
      "538                        Farmers Bank of Cheneyville         Cheneyville   \n",
      "539                                      Bank of Alamo               Alamo   \n",
      "540             AmTrade International Bank  En Espanol             Atlanta   \n",
      "541                     Universal Federal Savings Bank             Chicago   \n",
      "542                       Connecticut Bank of Commerce            Stamford   \n",
      "543                                   New Century Bank     Shelby Township   \n",
      "544                              Net 1st National Bank          Boca Raton   \n",
      "545                                       NextBank, NA             Phoenix   \n",
      "546                           Oakwood Deposit Bank Co.             Oakwood   \n",
      "547                              Bank of Sierra Blanca       Sierra Blanca   \n",
      "548                      Hamilton Bank, NA  En Espanol               Miami   \n",
      "549                             Sinclair National Bank            Gravette   \n",
      "550                                 Superior Bank, FSB            Hinsdale   \n",
      "551                                Malta National Bank               Malta   \n",
      "552                    First Alliance Bank & Trust Co.          Manchester   \n",
      "553                  National State Bank of Metropolis          Metropolis   \n",
      "554                                   Bank of Honolulu            Honolulu   \n",
      "\n",
      "     ST   CERT                Acquiring Institution        Closing Date  \\\n",
      "0    IL  30570                   Royal Savings Bank   December 15, 2017   \n",
      "1    KS  17719                          Conway Bank    October 13, 2017   \n",
      "2    IL   1802            United Fidelity Bank, fsb        May 26, 2017   \n",
      "3    WI  30003  First-Citizens Bank & Trust Company         May 5, 2017   \n",
      "4    LA  58302                         Whitney Bank      April 28, 2017   \n",
      "5    UT  35495                    Cache Valley Bank       March 3, 2017   \n",
      "6    IL  19328                  State Bank of Texas    January 27, 2017   \n",
      "7    NJ  34951  First-Citizens Bank & Trust Company    January 13, 2017   \n",
      "8    AR     91                         Today's Bank  September 23, 2016   \n",
      "9    GA  11297                          United Bank     August 19, 2016   \n",
      "10   PA  35312  First-Citizens Bank & Trust Company         May 6, 2016   \n",
      "11   TN   9956           The Bank of Fayette County      April 29, 2016   \n",
      "12   WI  20364  First-Citizens Bank & Trust Company      March 11, 2016   \n",
      "13   WA  35156                       Twin City Bank     October 2, 2015   \n",
      "14   GA  35259                        Fidelity Bank     October 2, 2015   \n",
      "15   CO  34112            United Fidelity Bank, fsb       July 10, 2015   \n",
      "16   IL  57772             Republic Bank of Chicago         May 8, 2015   \n",
      "17   PR  32102         Banco Popular de Puerto Rico   February 27, 2015   \n",
      "18   GA  33938  First-Citizens Bank & Trust Company   February 13, 2015   \n",
      "19   IL  20290            United Fidelity Bank, fsb    January 23, 2015   \n",
      "20   FL  17557                       First NBC Bank    January 16, 2015   \n",
      "21   MN  34983                            BankVista   December 19, 2014   \n",
      "22   CA  34738    Bank of Southern California, N.A.    November 7, 2014   \n",
      "23   IL    916                  State Bank of Texas    October 24, 2014   \n",
      "24   MD   4862                          Howard Bank    October 17, 2014   \n",
      "25   IL  28462                 Providence Bank, LLC       July 25, 2014   \n",
      "26   GA  58125            Community & Southern Bank       July 18, 2014   \n",
      "27   OK  12483      Alva State Bank & Trust Company       June 27, 2014   \n",
      "28   FL  21793  Landmark Bank, National Association       June 20, 2014   \n",
      "29   IL  10450                  Great Southern Bank       June 20, 2014   \n",
      "..   ..    ...                                  ...                 ...   \n",
      "525  AR  33901       Pulaski Bank and Trust Company         May 9, 2008   \n",
      "526  MO   1971                        Security Bank       March 7, 2008   \n",
      "527  MO  24660       Liberty Bank and Trust Company    January 25, 2008   \n",
      "528  OH  16848         The Citizens Banking Company     October 4, 2007   \n",
      "529  GA  32575                           ING DIRECT  September 28, 2007   \n",
      "530  PA  35353  Allegheny Valley Bank of Pittsburgh    February 2, 2007   \n",
      "531  UT   1249                        Far West Bank       June 25, 2004   \n",
      "532  NY  26778                     Union State Bank      March 19, 2004   \n",
      "533  FL  26838              Hancock Bank of Florida      March 12, 2004   \n",
      "534  NJ  31330                          No Acquirer   February 14, 2004   \n",
      "535  PA  27203                       Earthstar Bank   November 14, 2003   \n",
      "536  WI  11639                        The Park Bank         May 9, 2003   \n",
      "537  CA  27094                            Beal Bank    February 7, 2003   \n",
      "538  LA  16445            Sabine State Bank & Trust   December 17, 2002   \n",
      "539  TN   9961                          No Acquirer    November 8, 2002   \n",
      "540  GA  33784                          No Acquirer  September 30, 2002   \n",
      "541  IL  29355               Chicago Community Bank       June 27, 2002   \n",
      "542  CT  19183                   Hudson United Bank       June 26, 2002   \n",
      "543  MI  34979                          No Acquirer      March 28, 2002   \n",
      "544  FL  26652                       Bank Leumi USA       March 1, 2002   \n",
      "545  AZ  22314                          No Acquirer    February 7, 2002   \n",
      "546  OH   8966       The State Bank & Trust Company    February 1, 2002   \n",
      "547  TX  22002     The Security State Bank of Pecos    January 18, 2002   \n",
      "548  FL  24382     Israel Discount Bank of New York    January 11, 2002   \n",
      "549  AR  34248                   Delta Trust & Bank   September 7, 2001   \n",
      "550  IL  32646                Superior Federal, FSB       July 27, 2001   \n",
      "551  OH   6629                    North Valley Bank         May 3, 2001   \n",
      "552  NH  34264  Southern New Hampshire Bank & Trust    February 2, 2001   \n",
      "553  IL   3815              Banterra Bank of Marion   December 14, 2000   \n",
      "554  HI  21029                   Bank of the Orient    October 13, 2000   \n",
      "\n",
      "           Updated Date  \n",
      "0     February 21, 2018  \n",
      "1     February 21, 2018  \n",
      "2         July 26, 2017  \n",
      "3        March 22, 2018  \n",
      "4      December 5, 2017  \n",
      "5         March 7, 2018  \n",
      "6          May 18, 2017  \n",
      "7          May 18, 2017  \n",
      "8    September 25, 2017  \n",
      "9          June 1, 2017  \n",
      "10    September 6, 2016  \n",
      "11    September 6, 2016  \n",
      "12       March 13, 2017  \n",
      "13    February 19, 2018  \n",
      "14         July 9, 2018  \n",
      "15    February 20, 2018  \n",
      "16        July 12, 2016  \n",
      "17         May 13, 2015  \n",
      "18       April 21, 2015  \n",
      "19    November 15, 2017  \n",
      "20    November 15, 2017  \n",
      "21      January 3, 2018  \n",
      "22    November 10, 2016  \n",
      "23      January 6, 2016  \n",
      "24    February 19, 2018  \n",
      "25    December 12, 2016  \n",
      "26      October 6, 2017  \n",
      "27    February 21, 2018  \n",
      "28    February 14, 2018  \n",
      "29        June 26, 2015  \n",
      "..                  ...  \n",
      "525     August 28, 2012  \n",
      "526     August 28, 2012  \n",
      "527    October 26, 2012  \n",
      "528  September 12, 2016  \n",
      "529     August 28, 2012  \n",
      "530    October 27, 2010  \n",
      "531       April 9, 2008  \n",
      "532       April 9, 2008  \n",
      "533      April 17, 2018  \n",
      "534       April 9, 2008  \n",
      "535     October 6, 2017  \n",
      "536        June 5, 2012  \n",
      "537    October 20, 2008  \n",
      "538    October 20, 2004  \n",
      "539      March 18, 2005  \n",
      "540  September 11, 2006  \n",
      "541     October 6, 2017  \n",
      "542   February 14, 2012  \n",
      "543      March 18, 2005  \n",
      "544       April 9, 2008  \n",
      "545    February 5, 2015  \n",
      "546    October 25, 2012  \n",
      "547    November 6, 2003  \n",
      "548  September 21, 2015  \n",
      "549     October 6, 2017  \n",
      "550     August 19, 2014  \n",
      "551   November 18, 2002  \n",
      "552   February 18, 2003  \n",
      "553      March 17, 2005  \n",
      "554      March 17, 2005  \n",
      "\n",
      "[555 rows x 7 columns]\n"
     ]
    }
   ],
   "source": [
    "df = dfs[0] #list of dataframes\n",
    "print(df)"
   ]
  },
  {
   "cell_type": "code",
   "execution_count": 21,
   "metadata": {},
   "outputs": [],
   "source": [
    "whsSK=pd.read_html('https://en.wikipedia.org/wiki/List_of_World_Heritage_Sites_in_South_Korea') "
   ]
  },
  {
   "cell_type": "code",
   "execution_count": 22,
   "metadata": {},
   "outputs": [
    {
     "name": "stdout",
     "output_type": "stream",
     "text": [
      "                                                    0      1  \\\n",
      "0                                                Site  Image   \n",
      "1                               Baekje Historic Areas    NaN   \n",
      "2            Gochang, Hwasun and Ganghwa Dolmen Sites    NaN   \n",
      "3                        Changdeokgung Palace Complex    NaN   \n",
      "4                             Gyeongju Historic Areas    NaN   \n",
      "5   Haeinsa Temple Janggyeong Panjeon, the Deposit...    NaN   \n",
      "6      Historic Villages of Korea: Hahoe and Yangdong    NaN   \n",
      "7                                   Hwaseong Fortress    NaN   \n",
      "8                 Jeju Volcanic Island and Lava Tubes    NaN   \n",
      "9                                      Jongmyo Shrine    NaN   \n",
      "10                                     Namhansanseong    NaN   \n",
      "11                  Royal Tombs of the Joseon Dynasty    NaN   \n",
      "12      Sansa, Buddhist Mountain Monasteries in Korea    NaN   \n",
      "13               Seokguram Grotto and Bulguksa Temple    NaN   \n",
      "\n",
      "                                                    2                       3  \\\n",
      "0                                            Location                Criteria   \n",
      "1   South Chungcheong and North Jeolla36°27′43″N 1...      Cultural:(ii)(iii)   \n",
      "2   Incheon, North Jeolla and South Jeolla34°58′00...          Cultural:(iii)   \n",
      "3   Seoul37°33′00″N 126°59′00″E﻿ / ﻿37.55000°N 126...  Cultural:(ii)(iii)(iv)   \n",
      "4   North Gyeongsang35°47′20″N 129°13′36″E﻿ / ﻿35....      Cultural:(ii)(iii)   \n",
      "5   South Gyeongsang35°48′00″N 128°06′00″E﻿ / ﻿35....       Cultural:(iv)(vi)   \n",
      "6   North Gyeongsang36°32′21″N 128°31′00″E﻿ / ﻿36....      Cultural:(iii)(iv)   \n",
      "7   Gyeonggi37°16′20″N 127°00′30″E﻿ / ﻿37.27222°N ...      Cultural:(ii)(iii)   \n",
      "8   Jeju33°28′08″N 126°43′13″E﻿ / ﻿33.46889°N 126....     Natural:(vii)(viii)   \n",
      "9   Seoul37°33′00″N 126°59′00″E﻿ / ﻿37.55000°N 126...           Cultural:(iv)   \n",
      "10  Gyeonggi37°28′44″N 127°10′52″E﻿ / ﻿37.47889°N ...       Cultural:(ii)(iv)   \n",
      "11  Gyeonggi and Seoul37°11′50″N 128°27′10″E﻿ / ﻿3...  Cultural:(iii)(iv)(vi)   \n",
      "12  North Chungcheong, North Gyeongsang, South Chu...          Cultural:(iii)   \n",
      "13  North Gyeongsang35°47′00″N 129°21′00″E﻿ / ﻿35....        Cultural:(i)(iv)   \n",
      "\n",
      "                4     5            6  \n",
      "0   Areaha (acre)  Year  Description  \n",
      "1             NaN  2015          [9]  \n",
      "2               —  2000         [10]  \n",
      "3               —  1997         [11]  \n",
      "4             NaN  2000         [12]  \n",
      "5               —  1995         [13]  \n",
      "6             NaN  2010         [14]  \n",
      "7               —  1997         [15]  \n",
      "8             NaN  2007         [16]  \n",
      "9             NaN  1995         [17]  \n",
      "10            NaN  2014         [18]  \n",
      "11            NaN  2009         [19]  \n",
      "12            NaN  2018         [20]  \n",
      "13              —  1995         [21]  \n"
     ]
    }
   ],
   "source": [
    "whs_sk = whsSK[0] #grab dataframe from index 0\n",
    "print(whs_sk)"
   ]
  },
  {
   "cell_type": "markdown",
   "metadata": {},
   "source": [
    "### #page with 1+ table"
   ]
  },
  {
   "cell_type": "code",
   "execution_count": 24,
   "metadata": {},
   "outputs": [],
   "source": [
    "whsPH=pd.read_html('https://en.wikipedia.org/wiki/List_of_World_Heritage_Sites_in_the_Philippines') "
   ]
  },
  {
   "cell_type": "code",
   "execution_count": 37,
   "metadata": {},
   "outputs": [
    {
     "name": "stdout",
     "output_type": "stream",
     "text": [
      "                                    0  \\\n",
      "0                     Type (criteria)   \n",
      "1               Natural: (vii)(ix)(x)   \n",
      "2       Cultural: (i)(iii)(iv)(v)(vi)   \n",
      "3                               Mixed   \n",
      "4              Cultural: (iii)(iv)(v)   \n",
      "5                Natural: (vii)(viii)   \n",
      "6                 Mixed: (iii)(ix)(x)   \n",
      "7                    Natural: (ix)(x)   \n",
      "8   Cultural: (i)(ii)(iii)(iv)(v)(vi)   \n",
      "9                   Natural: (vii)(x)   \n",
      "10                   Natural: (ix)(x)   \n",
      "11              Natural: (vii)(ix)(x)   \n",
      "12                   Natural: (ix)(x)   \n",
      "13                   Natural: (ix)(x)   \n",
      "14         Cultural: (ii)(iii)(iv)(v)   \n",
      "15                   Natural: (ix)(x)   \n",
      "16         Cultural: (ii)(iii)(iv)(v)   \n",
      "17                    Cultural: (iii)   \n",
      "18         Cultural: (ii)(iii)(iv)(v)   \n",
      "19                   Natural: (ix)(x)   \n",
      "\n",
      "                                                    1  \\\n",
      "0                                                Site   \n",
      "1                               Apo Reef Natural Park   \n",
      "2   Baroque Churches of the Philippines (Extension...   \n",
      "3          Batanes Protected landscapes and seascapes   \n",
      "4                          Butuan Archeological Sites   \n",
      "5                    Chocolate Hills Natural Monument   \n",
      "6                    Coron Island Natural Biotic Area   \n",
      "7      El Nido-Taytay Managed Resource Protected Area   \n",
      "8                          Kabayan Mummy Burial Caves   \n",
      "9                  Mayon Volcano Natural Park (MMVNP)   \n",
      "10                    Mounts Iglit-Baco National Park   \n",
      "11                 Mount Malindang Range Natural Park   \n",
      "12            Mount Mantalingajan Protected Landscape   \n",
      "13                          Mount Pulag National Park   \n",
      "14  Neolithic Shell Midden Sites in Lal-lo and Gat...   \n",
      "15  Northern Sierra Madre Natural Park and outlyin...   \n",
      "16  Paleolithic Archaeological Sites in Cagayan Va...   \n",
      "17  Petroglyphs and Petrographs of the Philippines...   \n",
      "18           The Tabon Cave Complex and all of Lipuun   \n",
      "19                  Turtle Islands Wildlife Sanctuary   \n",
      "\n",
      "                                     2                             3  \\\n",
      "0                             Location                        Period   \n",
      "1                             Sulu Sea             Pleistocene Epoch   \n",
      "2                    Various Locations        18th to 19th centuries   \n",
      "3                              Batanes  Pleistocene Epoch and 100 AD   \n",
      "4                     Agusan del Norte                  10th century   \n",
      "5                                Bohol             Pleistocene Epoch   \n",
      "6                              Palawan             Pleistocene Epoch   \n",
      "7                              Palawan             Pleistocene Epoch   \n",
      "8                              Benguet                        100 AD   \n",
      "9                                Albay             Pleistocene Epoch   \n",
      "10                             Mindoro             Pleistocene Epoch   \n",
      "11                  Misamis Occidental             Pleistocene Epoch   \n",
      "12                             Palawan             Pleistocene Epoch   \n",
      "13  Ifugao, Nueva Viscaya, and Benguet             Pleistocene Epoch   \n",
      "14                             Cagayan              Neolithic Period   \n",
      "15                             Isabela             Pleistocene Epoch   \n",
      "16                      Cagayan Valley            Paleolithic Period   \n",
      "17                  Multiple locations            Paleolithic Period   \n",
      "18                             Palawan            Paleolithic Period   \n",
      "19                           Tawi-Tawi             Pleistocene Epoch   \n",
      "\n",
      "                                                    4      5     6  \n",
      "0                                         Description  Image   Ref  \n",
      "1   The site is the second biggest producer of juv...    NaN  [14]  \n",
      "2   All five baroque churches have been declared a...    NaN  [15]  \n",
      "3   The Mahatao Church of Batanes is a declared Na...    NaN  [16]  \n",
      "4   The site exemplified and concretized the capab...    NaN  [17]  \n",
      "5   The site is the focal property of the proposed...    NaN  [18]  \n",
      "6   The site is within the Palawan UNESCO Biospher...    NaN  [19]  \n",
      "7   The site is within the Palawan UNESCO Biospher...    NaN  [20]  \n",
      "8   The site has been listed by the World Monument...    NaN  [21]  \n",
      "9   The site is the central property of the Albay ...    NaN  [22]  \n",
      "10        The site is a declared ASEAN Heritage Park.    NaN  [23]  \n",
      "11        The site is a declared ASEAN Heritage Park.    NaN  [24]  \n",
      "12  The site is part of the Palawan UNESCO Biosphe...    NaN  [25]  \n",
      "13  The site is the third highest point in the Phi...    NaN  [26]  \n",
      "14  The site is the largest shell midden zone in t...    NaN  [27]  \n",
      "15  The site is the largest national park in the P...    NaN  [28]  \n",
      "16  The site includes the location where the bone ...    NaN  [29]  \n",
      "17  The sites in Singnapan, Alab, and Angono have ...    NaN  [30]  \n",
      "18  The site is a declared National Cultural Treas...    NaN  [31]  \n",
      "19  The site is a major green sea turtle breeding ...    NaN  [32]  \n"
     ]
    }
   ],
   "source": [
    "whs_phl = whsPH[2] #grab dataframe from index 2, table 3 of the tentative WHS sites\n",
    "print(whs_phl)"
   ]
  },
  {
   "cell_type": "code",
   "execution_count": 40,
   "metadata": {},
   "outputs": [
    {
     "data": {
      "text/plain": [
       "16"
      ]
     },
     "execution_count": 40,
     "metadata": {},
     "output_type": "execute_result"
    }
   ],
   "source": [
    "len(whsPH)"
   ]
  },
  {
   "cell_type": "code",
   "execution_count": null,
   "metadata": {},
   "outputs": [],
   "source": []
  }
 ],
 "metadata": {
  "kernelspec": {
   "display_name": "Python 3",
   "language": "python",
   "name": "python3"
  },
  "language_info": {
   "codemirror_mode": {
    "name": "ipython",
    "version": 3
   },
   "file_extension": ".py",
   "mimetype": "text/x-python",
   "name": "python",
   "nbconvert_exporter": "python",
   "pygments_lexer": "ipython3",
   "version": "3.7.0"
  }
 },
 "nbformat": 4,
 "nbformat_minor": 2
}
