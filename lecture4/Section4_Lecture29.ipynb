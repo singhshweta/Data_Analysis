{
 "cells": [
  {
   "cell_type": "markdown",
   "metadata": {},
   "source": [
    "## Read in JSON data"
   ]
  },
  {
   "cell_type": "code",
   "execution_count": 1,
   "metadata": {},
   "outputs": [],
   "source": [
    "import pandas as pd\n",
    "import json\n",
    "#examine the json file online: https://codebeautify.org/jsonviewer "
   ]
  },
  {
   "cell_type": "code",
   "execution_count": 2,
   "metadata": {},
   "outputs": [],
   "source": [
    "df = pd.read_json(\"skorea.json\")"
   ]
  },
  {
   "cell_type": "code",
   "execution_count": 3,
   "metadata": {},
   "outputs": [
    {
     "data": {
      "text/html": [
       "<div>\n",
       "<style scoped>\n",
       "    .dataframe tbody tr th:only-of-type {\n",
       "        vertical-align: middle;\n",
       "    }\n",
       "\n",
       "    .dataframe tbody tr th {\n",
       "        vertical-align: top;\n",
       "    }\n",
       "\n",
       "    .dataframe thead th {\n",
       "        text-align: right;\n",
       "    }\n",
       "</style>\n",
       "<table border=\"1\" class=\"dataframe\">\n",
       "  <thead>\n",
       "    <tr style=\"text-align: right;\">\n",
       "      <th></th>\n",
       "      <th>Area ha (acre)</th>\n",
       "      <th>Criteria</th>\n",
       "      <th>Description</th>\n",
       "      <th>Image</th>\n",
       "      <th>Location</th>\n",
       "      <th>Site</th>\n",
       "      <th>Year</th>\n",
       "    </tr>\n",
       "  </thead>\n",
       "  <tbody>\n",
       "    <tr>\n",
       "      <th>0</th>\n",
       "      <td>135 (330)</td>\n",
       "      <td>Cultural: (ii)(iii)</td>\n",
       "      <td></td>\n",
       "      <td>/wiki/File:MuryeongsTomb.jpg</td>\n",
       "      <td>South Chungcheong, North Jeolla</td>\n",
       "      <td>Baekje Historic Areas</td>\n",
       "      <td>2015</td>\n",
       "    </tr>\n",
       "    <tr>\n",
       "      <th>1</th>\n",
       "      <td></td>\n",
       "      <td>Cultural: (iii)</td>\n",
       "      <td></td>\n",
       "      <td>/wiki/File:Korea-Gwangju-Gochang_Dolmens_5350-...</td>\n",
       "      <td>Incheon, North Jeolla, South Jeolla</td>\n",
       "      <td>Gochang, Hwasun and Ganghwa Dolmen Sites</td>\n",
       "      <td>2000</td>\n",
       "    </tr>\n",
       "    <tr>\n",
       "      <th>2</th>\n",
       "      <td></td>\n",
       "      <td>Cultural: (ii)(iii)(iv)</td>\n",
       "      <td></td>\n",
       "      <td>/wiki/File:Juhamnu,_Changdeokgung_-_Seoul,_Kor...</td>\n",
       "      <td>Seoul</td>\n",
       "      <td>Changdeokgung Palace Complex</td>\n",
       "      <td>1997</td>\n",
       "    </tr>\n",
       "    <tr>\n",
       "      <th>3</th>\n",
       "      <td>2,880 (7,100)</td>\n",
       "      <td>Cultural: (ii)(iii)</td>\n",
       "      <td></td>\n",
       "      <td>/wiki/File:Korea-Gyeongju-Bunhwangsa-Lanterns-...</td>\n",
       "      <td>North Gyeongsang</td>\n",
       "      <td>Gyeongju Historic Areas</td>\n",
       "      <td>2000</td>\n",
       "    </tr>\n",
       "    <tr>\n",
       "      <th>4</th>\n",
       "      <td></td>\n",
       "      <td>Cultural: (iv)(vi)</td>\n",
       "      <td></td>\n",
       "      <td>/wiki/File:Haeinsa_Temple_(6222053899).jpg</td>\n",
       "      <td>South Gyeongsang</td>\n",
       "      <td>Haeinsa Temple Janggyeong Panjeon, the Deposit...</td>\n",
       "      <td>1995</td>\n",
       "    </tr>\n",
       "    <tr>\n",
       "      <th>5</th>\n",
       "      <td>600 (1,500)</td>\n",
       "      <td>Cultural: (iii)(iv)</td>\n",
       "      <td></td>\n",
       "      <td>/wiki/File:Hahoe_8784.jpg</td>\n",
       "      <td>North Gyeongsang</td>\n",
       "      <td>Historic Villages of Korea: Hahoe and Yangdong</td>\n",
       "      <td>2010</td>\n",
       "    </tr>\n",
       "    <tr>\n",
       "      <th>6</th>\n",
       "      <td></td>\n",
       "      <td>Cultural: (ii)(iii)</td>\n",
       "      <td></td>\n",
       "      <td>/wiki/File:Hwaseong2.jpg</td>\n",
       "      <td>Gyeonggi</td>\n",
       "      <td>Hwaseong Fortress</td>\n",
       "      <td>1997</td>\n",
       "    </tr>\n",
       "  </tbody>\n",
       "</table>\n",
       "</div>"
      ],
      "text/plain": [
       "  Area ha (acre)                 Criteria Description  \\\n",
       "0      135 (330)      Cultural: (ii)(iii)               \n",
       "1                         Cultural: (iii)               \n",
       "2                 Cultural: (ii)(iii)(iv)               \n",
       "3  2,880 (7,100)      Cultural: (ii)(iii)               \n",
       "4                      Cultural: (iv)(vi)               \n",
       "5    600 (1,500)      Cultural: (iii)(iv)               \n",
       "6                     Cultural: (ii)(iii)               \n",
       "\n",
       "                                               Image  \\\n",
       "0                       /wiki/File:MuryeongsTomb.jpg   \n",
       "1  /wiki/File:Korea-Gwangju-Gochang_Dolmens_5350-...   \n",
       "2  /wiki/File:Juhamnu,_Changdeokgung_-_Seoul,_Kor...   \n",
       "3  /wiki/File:Korea-Gyeongju-Bunhwangsa-Lanterns-...   \n",
       "4         /wiki/File:Haeinsa_Temple_(6222053899).jpg   \n",
       "5                          /wiki/File:Hahoe_8784.jpg   \n",
       "6                           /wiki/File:Hwaseong2.jpg   \n",
       "\n",
       "                              Location  \\\n",
       "0      South Chungcheong, North Jeolla   \n",
       "1  Incheon, North Jeolla, South Jeolla   \n",
       "2                                Seoul   \n",
       "3                     North Gyeongsang   \n",
       "4                     South Gyeongsang   \n",
       "5                     North Gyeongsang   \n",
       "6                             Gyeonggi   \n",
       "\n",
       "                                                Site  Year  \n",
       "0                              Baekje Historic Areas  2015  \n",
       "1           Gochang, Hwasun and Ganghwa Dolmen Sites  2000  \n",
       "2                       Changdeokgung Palace Complex  1997  \n",
       "3                            Gyeongju Historic Areas  2000  \n",
       "4  Haeinsa Temple Janggyeong Panjeon, the Deposit...  1995  \n",
       "5     Historic Villages of Korea: Hahoe and Yangdong  2010  \n",
       "6                                  Hwaseong Fortress  1997  "
      ]
     },
     "execution_count": 3,
     "metadata": {},
     "output_type": "execute_result"
    }
   ],
   "source": [
    "df.head(7)"
   ]
  },
  {
   "cell_type": "code",
   "execution_count": 4,
   "metadata": {},
   "outputs": [
    {
     "data": {
      "text/plain": [
       "(12, 7)"
      ]
     },
     "execution_count": 4,
     "metadata": {},
     "output_type": "execute_result"
    }
   ],
   "source": [
    "df.shape"
   ]
  },
  {
   "cell_type": "code",
   "execution_count": 6,
   "metadata": {},
   "outputs": [],
   "source": [
    "#web = pd.read_json('https://api.github.com/repos/pydata/pandas/issues?per_page=5')"
   ]
  },
  {
   "cell_type": "code",
   "execution_count": null,
   "metadata": {},
   "outputs": [],
   "source": [
    "web.head(4)"
   ]
  },
  {
   "cell_type": "code",
   "execution_count": null,
   "metadata": {},
   "outputs": [],
   "source": []
  }
 ],
 "metadata": {
  "kernelspec": {
   "display_name": "Python 3",
   "language": "python",
   "name": "python3"
  },
  "language_info": {
   "codemirror_mode": {
    "name": "ipython",
    "version": 3
   },
   "file_extension": ".py",
   "mimetype": "text/x-python",
   "name": "python",
   "nbconvert_exporter": "python",
   "pygments_lexer": "ipython3",
   "version": "3.7.0"
  }
 },
 "nbformat": 4,
 "nbformat_minor": 2
}
